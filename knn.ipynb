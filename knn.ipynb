{
 "cells": [
  {
   "cell_type": "markdown",
   "metadata": {
    "collapsed": false
   },
   "source": [
    "## KNN \n",
    "\n",
    "<p>KNN regression is a non-parametric method that, in an intuitive manner, approximates the association between independent variables and the continuous outcome by averaging the observations in the same neighbourhood.<p>\n",
    "\n",
    "1. **`import sklearn`**: Imports the scikit-learn library, a powerful toolkit for machine learning in Python.\n",
    "\n",
    "2. **`from sklearn.utils import shuffle`**: Provides utilities to shuffle data, which helps in randomizing the dataset.\n",
    "\n",
    "3. **`from sklearn.neighbors import KNeighborsClassifier`**: Imports the K-Nearest Neighbors algorithm for classification tasks.\n",
    "\n",
    "4. **`import pandas as pd`**: Imports the pandas library, which is used for data manipulation and analysis.\n",
    "\n",
    "5. **`import numpy as np`**: Imports the NumPy library, which provides support for large, multi-dimensional arrays and matrices.\n",
    "\n",
    "6. **`from sklearn import linear_model, preprocessing`**: Imports modules for linear modeling and preprocessing of data.\n",
    "\n",
    "7. **`from sklearn.metrics import confusion_matrix`**: Imports the function to compute the confusion matrix, which evaluates the performance of a classification algorithm.\n",
    "\n",
    "8. **`from sklearn.metrics import f1_score`**: Imports the function to compute the F1 score, a metric that balances precision and recall.\n",
    "\n",
    "9. **`from sklearn.metrics import accuracy_score`**: Imports the function to compute the accuracy score, which measures the proportion of correctly classified instances.\n"
   ]
  },
  {
   "cell_type": "code",
   "execution_count": 91,
   "metadata": {},
   "outputs": [],
   "source": [
    "import sklearn \n",
    "from sklearn.utils import shuffle \n",
    "from sklearn.neighbors import KNeighborsClassifier \n",
    "import pandas as pd \n",
    "import numpy as np \n",
    "from sklearn import linear_model, preprocessing \n",
    "from sklearn.metrics import confusion_matrix \n",
    "from sklearn.metrics import f1_score \n",
    "from sklearn.metrics import accuracy_score "
   ]
  },
  {
   "cell_type": "code",
   "execution_count": 92,
   "metadata": {},
   "outputs": [
    {
     "name": "stdout",
     "output_type": "stream",
     "text": [
      "  buying  maint door persons lug_boot safety  class\n",
      "0  vhigh  vhigh    2       2    small    low  unacc\n",
      "1  vhigh  vhigh    2       2    small    med  unacc\n",
      "2  vhigh  vhigh    2       2    small   high  unacc\n",
      "3  vhigh  vhigh    2       2      med    low  unacc\n",
      "4  vhigh  vhigh    2       2      med    med  unacc\n"
     ]
    }
   ],
   "source": [
    "\n",
    "data = pd.read_csv(\"car.data\")\n",
    "print(data.head())\n"
   ]
  },
  {
   "cell_type": "code",
   "execution_count": 93,
   "metadata": {},
   "outputs": [],
   "source": [
    "# Initialise the LabelEncoder to convert categorical values to numeric values\n",
    "le = preprocessing.LabelEncoder()\n",
    "\n",
    "buying = le.fit_transform(list(data[\"buying\"]))\n",
    "\n",
    "maint = le.fit_transform(list(data[\"maint\"]))\n",
    "\n",
    "door = le.fit_transform(list(data[\"door\"]))\n",
    "\n",
    "persons = le.fit_transform(list(data[\"persons\"]))\n",
    "\n",
    "lug_boot = le.fit_transform(list(data[\"lug_boot\"]))\n",
    "\n",
    "safety = le.fit_transform(list(data[\"safety\"]))\n",
    "\n",
    "cls = le.fit_transform(list(data[\"class\"]))\n"
   ]
  },
  {
   "cell_type": "code",
   "execution_count": 1,
   "metadata": {
    "ExecuteTime": {
     "end_time": "2024-08-22T10:32:26.087373Z",
     "start_time": "2024-08-22T10:32:25.858127Z"
    }
   },
   "outputs": [
    {
     "ename": "NameError",
     "evalue": "name 'buying' is not defined",
     "output_type": "error",
     "traceback": [
      "\u001b[0;31m---------------------------------------------------------------------------\u001b[0m",
      "\u001b[0;31mNameError\u001b[0m                                 Traceback (most recent call last)",
      "Cell \u001b[0;32mIn[1], line 2\u001b[0m\n\u001b[1;32m      1\u001b[0m predict \u001b[38;5;241m=\u001b[39m \u001b[38;5;124m\"\u001b[39m\u001b[38;5;124mclass\u001b[39m\u001b[38;5;124m\"\u001b[39m \n\u001b[0;32m----> 2\u001b[0m x \u001b[38;5;241m=\u001b[39m \u001b[38;5;28mlist\u001b[39m(\u001b[38;5;28mzip\u001b[39m(buying, maint, door, persons, lug_boot, safety)) \n\u001b[1;32m      3\u001b[0m y \u001b[38;5;241m=\u001b[39m \u001b[38;5;28mlist\u001b[39m (\u001b[38;5;28mcls\u001b[39m) \n\u001b[1;32m      7\u001b[0m x_train, x_test, y_train, y_test \u001b[38;5;241m=\u001b[39m sklearn\u001b[38;5;241m.\u001b[39mmodel_selection\u001b[38;5;241m.\u001b[39mtrain_test_split(x, y, test_size\u001b[38;5;241m=\u001b[39m\u001b[38;5;241m0.1\u001b[39m) \n",
      "\u001b[0;31mNameError\u001b[0m: name 'buying' is not defined"
     ]
    }
   ],
   "source": [
    "predict = \"class\" \n",
    "x = list(zip(buying, maint, door, persons, lug_boot, safety)) \n",
    "y = list (cls) \n",
    "\n",
    " \n",
    "\n",
    "x_train, x_test, y_train, y_test = sklearn.model_selection.train_test_split(x, y, test_size=0.1) \n",
    "\n",
    "print (x_train, y_test) "
   ]
  },
  {
   "cell_type": "code",
   "execution_count": 96,
   "metadata": {},
   "outputs": [
    {
     "name": "stdout",
     "output_type": "stream",
     "text": [
      "0.9075144508670521\n"
     ]
    }
   ],
   "source": [
    "# Initialize the K-Nearest Neighbors classifier with Euclidean distance, p=3 (Minkowski distance), and 9 neighbors\n",
    "model = KNeighborsClassifier(metric='euclidean', p=3,  n_neighbors=9) \n",
    "\n",
    "model.fit(x_train, y_train) \n",
    "\n",
    "# Evaluate the model's accuracy on the test data\n",
    "acc = model.score(x_test, y_test) \n",
    "\n",
    "print(acc) "
   ]
  },
  {
   "cell_type": "code",
   "execution_count": 97,
   "metadata": {},
   "outputs": [
    {
     "data": {
      "text/plain": [
       "array([2, 2, 2, 2, 2, 0, 0, 2, 2, 2, 2, 2, 2, 2, 2, 2, 2, 0, 2, 2, 2, 2,\n",
       "       2, 3, 2, 2, 2, 2, 0, 2, 2, 2, 0, 0, 2, 2, 0, 0, 2, 2, 2, 2, 0, 0,\n",
       "       2, 2, 2, 2, 2, 2, 2, 2, 2, 2, 0, 0, 2, 2, 2, 2, 2, 2, 1, 0, 2, 0,\n",
       "       0, 0, 0, 2, 2, 0, 2, 2, 2, 2, 2, 2, 2, 0, 2, 2, 0, 2, 0, 0, 2, 0,\n",
       "       2, 2, 2, 2, 0, 2, 2, 2, 2, 0, 2, 2, 2, 0, 2, 0, 2, 2, 2, 2, 2, 0,\n",
       "       1, 2, 2, 2, 0, 2, 2, 2, 0, 2, 2, 2, 0, 2, 2, 2, 2, 2, 2, 2, 0, 2,\n",
       "       2, 2, 2, 0, 1, 2, 2, 0, 2, 2, 2, 2, 2, 2, 2, 2, 3, 2, 2, 2, 0, 0,\n",
       "       0, 2, 2, 2, 2, 0, 2, 2, 0, 2, 2, 2, 2, 2, 2, 2, 2, 2, 2])"
      ]
     },
     "execution_count": 97,
     "metadata": {},
     "output_type": "execute_result"
    }
   ],
   "source": [
    "y_pred = model.predict(x_test)\n",
    "y_pred"
   ]
  },
  {
   "cell_type": "code",
   "execution_count": 98,
   "metadata": {},
   "outputs": [
    {
     "name": "stdout",
     "output_type": "stream",
     "text": [
      "predicted:  good Data: (3, 2, 0, 0, 2, 1) actual:  good\n",
      "predicted:  good Data: (1, 3, 3, 1, 1, 1) actual:  good\n",
      "predicted:  good Data: (1, 1, 0, 0, 0, 2) actual:  good\n",
      "predicted:  good Data: (1, 1, 1, 2, 0, 1) actual:  good\n",
      "predicted:  good Data: (1, 2, 3, 1, 2, 2) actual:  unnac\n",
      "predicted:  unnac Data: (0, 1, 2, 1, 2, 0) actual:  unnac\n",
      "predicted:  unnac Data: (0, 2, 1, 1, 2, 0) actual:  unnac\n",
      "predicted:  good Data: (1, 0, 1, 2, 2, 2) actual:  unnac\n",
      "predicted:  good Data: (3, 2, 0, 1, 0, 2) actual:  unnac\n",
      "predicted:  good Data: (0, 2, 3, 1, 2, 1) actual:  good\n",
      "predicted:  good Data: (3, 2, 3, 2, 0, 1) actual:  good\n",
      "predicted:  good Data: (2, 3, 1, 2, 0, 1) actual:  good\n",
      "predicted:  good Data: (3, 3, 3, 2, 0, 2) actual:  good\n",
      "predicted:  good Data: (1, 3, 2, 2, 2, 1) actual:  good\n",
      "predicted:  good Data: (2, 0, 1, 1, 1, 1) actual:  good\n",
      "predicted:  good Data: (3, 3, 3, 2, 1, 1) actual:  good\n",
      "predicted:  good Data: (0, 2, 0, 0, 0, 1) actual:  good\n",
      "predicted:  unnac Data: (3, 1, 1, 1, 1, 0) actual:  unnac\n",
      "predicted:  good Data: (3, 0, 0, 2, 2, 0) actual:  good\n",
      "predicted:  good Data: (3, 3, 2, 1, 0, 0) actual:  good\n",
      "predicted:  good Data: (3, 3, 1, 0, 0, 1) actual:  good\n",
      "predicted:  good Data: (0, 3, 3, 2, 1, 0) actual:  good\n",
      "predicted:  good Data: (3, 0, 1, 2, 1, 2) actual:  good\n",
      "predicted:  vgood Data: (1, 0, 1, 2, 0, 0) actual:  vgood\n",
      "predicted:  good Data: (2, 0, 3, 2, 0, 0) actual:  unnac\n",
      "predicted:  good Data: (3, 2, 3, 0, 0, 2) actual:  good\n",
      "predicted:  good Data: (1, 1, 0, 0, 0, 0) actual:  good\n",
      "predicted:  good Data: (1, 3, 3, 0, 0, 1) actual:  good\n",
      "predicted:  unnac Data: (1, 0, 2, 1, 2, 2) actual:  unnac\n",
      "predicted:  good Data: (1, 2, 0, 1, 2, 2) actual:  unnac\n",
      "predicted:  good Data: (3, 2, 3, 0, 1, 0) actual:  good\n",
      "predicted:  good Data: (3, 0, 2, 1, 2, 0) actual:  good\n",
      "predicted:  unnac Data: (0, 1, 3, 2, 0, 0) actual:  unnac\n",
      "predicted:  unnac Data: (0, 2, 3, 2, 1, 0) actual:  unnac\n",
      "predicted:  good Data: (1, 2, 1, 2, 0, 1) actual:  good\n",
      "predicted:  good Data: (2, 3, 0, 1, 0, 2) actual:  unnac\n",
      "predicted:  unnac Data: (1, 0, 3, 2, 1, 2) actual:  unnac\n",
      "predicted:  unnac Data: (0, 1, 1, 2, 1, 0) actual:  unnac\n",
      "predicted:  good Data: (2, 2, 0, 1, 2, 2) actual:  unnac\n",
      "predicted:  good Data: (0, 3, 1, 2, 1, 1) actual:  good\n",
      "predicted:  good Data: (3, 3, 1, 2, 2, 1) actual:  good\n",
      "predicted:  good Data: (3, 0, 1, 2, 1, 1) actual:  good\n",
      "predicted:  unnac Data: (2, 1, 0, 1, 2, 0) actual:  acc\n",
      "predicted:  unnac Data: (2, 2, 2, 1, 1, 2) actual:  unnac\n",
      "predicted:  good Data: (3, 3, 2, 1, 1, 2) actual:  good\n",
      "predicted:  good Data: (1, 0, 3, 0, 1, 2) actual:  good\n",
      "predicted:  good Data: (3, 0, 3, 0, 0, 2) actual:  good\n",
      "predicted:  good Data: (1, 1, 2, 1, 2, 1) actual:  good\n",
      "predicted:  good Data: (1, 2, 3, 0, 2, 2) actual:  good\n",
      "predicted:  good Data: (0, 2, 3, 1, 2, 2) actual:  good\n",
      "predicted:  good Data: (3, 0, 2, 2, 1, 2) actual:  good\n",
      "predicted:  good Data: (2, 2, 0, 2, 1, 2) actual:  unnac\n",
      "predicted:  good Data: (2, 0, 0, 0, 0, 0) actual:  good\n",
      "predicted:  good Data: (0, 3, 3, 1, 0, 0) actual:  good\n",
      "predicted:  unnac Data: (2, 2, 1, 2, 2, 2) actual:  unnac\n",
      "predicted:  unnac Data: (3, 2, 3, 2, 0, 0) actual:  unnac\n",
      "predicted:  good Data: (2, 1, 0, 2, 2, 0) actual:  good\n",
      "predicted:  good Data: (1, 0, 0, 0, 0, 1) actual:  good\n",
      "predicted:  good Data: (2, 3, 2, 2, 2, 2) actual:  good\n",
      "predicted:  good Data: (3, 0, 0, 1, 2, 0) actual:  good\n",
      "predicted:  good Data: (0, 0, 2, 0, 2, 1) actual:  good\n",
      "predicted:  good Data: (2, 1, 1, 0, 1, 0) actual:  good\n",
      "predicted:  acc Data: (1, 1, 2, 2, 1, 2) actual:  acc\n",
      "predicted:  unnac Data: (3, 1, 2, 1, 0, 0) actual:  unnac\n",
      "predicted:  good Data: (2, 3, 2, 2, 2, 1) actual:  good\n",
      "predicted:  unnac Data: (0, 2, 2, 1, 0, 0) actual:  unnac\n",
      "predicted:  unnac Data: (2, 3, 1, 2, 0, 0) actual:  unnac\n",
      "predicted:  unnac Data: (3, 1, 3, 2, 0, 2) actual:  unnac\n",
      "predicted:  unnac Data: (3, 2, 3, 2, 1, 0) actual:  unnac\n",
      "predicted:  good Data: (2, 1, 3, 1, 1, 1) actual:  good\n",
      "predicted:  good Data: (2, 1, 2, 0, 1, 0) actual:  good\n",
      "predicted:  unnac Data: (1, 0, 3, 1, 0, 2) actual:  unnac\n",
      "predicted:  good Data: (2, 3, 0, 0, 1, 1) actual:  good\n",
      "predicted:  good Data: (0, 0, 0, 1, 1, 1) actual:  good\n",
      "predicted:  good Data: (2, 2, 1, 2, 0, 1) actual:  good\n",
      "predicted:  good Data: (1, 3, 2, 0, 1, 1) actual:  good\n",
      "predicted:  good Data: (3, 0, 2, 0, 0, 2) actual:  good\n",
      "predicted:  good Data: (2, 0, 1, 2, 0, 1) actual:  good\n",
      "predicted:  good Data: (1, 0, 3, 0, 0, 1) actual:  good\n",
      "predicted:  unnac Data: (1, 3, 0, 1, 0, 0) actual:  unnac\n",
      "predicted:  good Data: (0, 3, 1, 0, 0, 0) actual:  good\n",
      "predicted:  good Data: (0, 2, 2, 0, 2, 2) actual:  good\n",
      "predicted:  unnac Data: (2, 1, 2, 2, 2, 2) actual:  unnac\n",
      "predicted:  good Data: (0, 2, 1, 2, 2, 2) actual:  good\n",
      "predicted:  unnac Data: (1, 2, 0, 2, 0, 2) actual:  acc\n",
      "predicted:  unnac Data: (2, 3, 3, 1, 0, 0) actual:  unnac\n",
      "predicted:  good Data: (0, 3, 3, 0, 2, 1) actual:  good\n",
      "predicted:  unnac Data: (2, 2, 1, 1, 0, 2) actual:  unnac\n",
      "predicted:  good Data: (0, 2, 0, 2, 0, 2) actual:  unnac\n",
      "predicted:  good Data: (2, 1, 3, 0, 2, 1) actual:  good\n",
      "predicted:  good Data: (0, 2, 1, 0, 1, 0) actual:  good\n",
      "predicted:  good Data: (3, 0, 3, 1, 0, 2) actual:  good\n",
      "predicted:  unnac Data: (0, 1, 1, 2, 2, 0) actual:  unnac\n",
      "predicted:  good Data: (2, 1, 1, 2, 0, 1) actual:  good\n",
      "predicted:  good Data: (3, 2, 1, 1, 1, 1) actual:  good\n",
      "predicted:  good Data: (3, 3, 2, 1, 1, 1) actual:  good\n",
      "predicted:  good Data: (3, 2, 1, 1, 1, 2) actual:  good\n",
      "predicted:  unnac Data: (0, 1, 3, 2, 2, 0) actual:  unnac\n",
      "predicted:  good Data: (2, 0, 2, 0, 2, 2) actual:  good\n",
      "predicted:  good Data: (0, 2, 2, 0, 0, 2) actual:  good\n",
      "predicted:  good Data: (3, 1, 1, 0, 0, 0) actual:  good\n",
      "predicted:  unnac Data: (2, 2, 3, 1, 1, 2) actual:  unnac\n",
      "predicted:  good Data: (3, 1, 0, 2, 1, 2) actual:  good\n",
      "predicted:  unnac Data: (2, 3, 1, 1, 1, 0) actual:  unnac\n",
      "predicted:  good Data: (3, 3, 0, 2, 0, 2) actual:  good\n",
      "predicted:  good Data: (3, 1, 0, 2, 1, 1) actual:  good\n",
      "predicted:  good Data: (3, 3, 2, 1, 1, 0) actual:  good\n",
      "predicted:  good Data: (0, 3, 2, 0, 2, 1) actual:  good\n",
      "predicted:  good Data: (2, 0, 3, 2, 2, 2) actual:  good\n",
      "predicted:  unnac Data: (3, 2, 1, 1, 0, 0) actual:  unnac\n",
      "predicted:  acc Data: (1, 2, 3, 1, 1, 2) actual:  acc\n",
      "predicted:  good Data: (0, 0, 1, 0, 2, 2) actual:  good\n",
      "predicted:  good Data: (2, 3, 0, 2, 2, 1) actual:  good\n",
      "predicted:  good Data: (3, 1, 0, 0, 0, 2) actual:  good\n",
      "predicted:  unnac Data: (0, 1, 0, 2, 1, 0) actual:  unnac\n",
      "predicted:  good Data: (0, 0, 2, 0, 1, 0) actual:  good\n",
      "predicted:  good Data: (2, 3, 2, 1, 0, 1) actual:  good\n",
      "predicted:  good Data: (0, 1, 1, 1, 2, 1) actual:  good\n",
      "predicted:  unnac Data: (1, 3, 3, 1, 1, 0) actual:  unnac\n",
      "predicted:  good Data: (0, 1, 2, 0, 0, 0) actual:  good\n",
      "predicted:  good Data: (0, 2, 0, 1, 2, 0) actual:  unnac\n",
      "predicted:  good Data: (3, 0, 2, 1, 2, 1) actual:  good\n",
      "predicted:  unnac Data: (2, 3, 1, 1, 2, 0) actual:  unnac\n",
      "predicted:  good Data: (0, 3, 1, 0, 1, 1) actual:  good\n",
      "predicted:  good Data: (0, 2, 0, 0, 0, 2) actual:  good\n",
      "predicted:  good Data: (0, 3, 0, 1, 2, 2) actual:  good\n",
      "predicted:  good Data: (1, 2, 0, 0, 2, 1) actual:  good\n",
      "predicted:  good Data: (3, 1, 2, 0, 1, 1) actual:  good\n",
      "predicted:  good Data: (3, 0, 2, 0, 1, 2) actual:  good\n",
      "predicted:  good Data: (1, 1, 3, 0, 0, 2) actual:  good\n",
      "predicted:  unnac Data: (1, 0, 1, 2, 1, 2) actual:  unnac\n",
      "predicted:  good Data: (1, 1, 1, 1, 0, 1) actual:  good\n",
      "predicted:  good Data: (3, 3, 2, 2, 2, 1) actual:  good\n",
      "predicted:  good Data: (1, 0, 3, 2, 2, 1) actual:  good\n",
      "predicted:  good Data: (3, 0, 2, 1, 1, 0) actual:  good\n",
      "predicted:  unnac Data: (1, 0, 0, 2, 2, 0) actual:  good\n",
      "predicted:  acc Data: (1, 1, 3, 1, 0, 2) actual:  acc\n",
      "predicted:  good Data: (0, 3, 0, 0, 1, 0) actual:  good\n",
      "predicted:  good Data: (3, 3, 0, 0, 0, 0) actual:  good\n",
      "predicted:  unnac Data: (0, 2, 1, 1, 0, 2) actual:  unnac\n",
      "predicted:  good Data: (0, 2, 1, 0, 0, 1) actual:  good\n",
      "predicted:  good Data: (0, 0, 2, 1, 1, 1) actual:  good\n",
      "predicted:  good Data: (2, 3, 1, 0, 2, 2) actual:  good\n",
      "predicted:  good Data: (3, 3, 0, 2, 1, 1) actual:  good\n",
      "predicted:  good Data: (0, 1, 1, 2, 1, 1) actual:  good\n",
      "predicted:  good Data: (0, 3, 0, 1, 2, 0) actual:  good\n",
      "predicted:  good Data: (0, 3, 3, 0, 2, 2) actual:  good\n",
      "predicted:  good Data: (1, 0, 0, 0, 2, 2) actual:  good\n",
      "predicted:  vgood Data: (1, 1, 2, 1, 1, 0) actual:  vgood\n",
      "predicted:  good Data: (1, 2, 1, 1, 1, 1) actual:  good\n",
      "predicted:  good Data: (3, 3, 2, 0, 2, 2) actual:  good\n",
      "predicted:  good Data: (3, 0, 3, 2, 1, 2) actual:  good\n",
      "predicted:  unnac Data: (2, 2, 0, 2, 0, 2) actual:  unnac\n",
      "predicted:  unnac Data: (1, 3, 2, 1, 0, 0) actual:  unnac\n",
      "predicted:  unnac Data: (2, 0, 0, 1, 1, 0) actual:  unnac\n",
      "predicted:  good Data: (0, 3, 3, 0, 0, 2) actual:  good\n",
      "predicted:  good Data: (1, 2, 0, 0, 0, 0) actual:  good\n",
      "predicted:  good Data: (0, 2, 1, 2, 0, 1) actual:  good\n",
      "predicted:  good Data: (2, 3, 1, 0, 0, 1) actual:  good\n",
      "predicted:  unnac Data: (2, 0, 3, 2, 2, 0) actual:  unnac\n",
      "predicted:  good Data: (2, 0, 3, 2, 1, 2) actual:  unnac\n",
      "predicted:  good Data: (0, 0, 3, 0, 1, 0) actual:  good\n",
      "predicted:  unnac Data: (1, 2, 0, 1, 0, 2) actual:  acc\n",
      "predicted:  good Data: (3, 1, 0, 1, 0, 1) actual:  good\n",
      "predicted:  good Data: (1, 1, 3, 1, 1, 1) actual:  good\n",
      "predicted:  good Data: (3, 3, 1, 2, 0, 1) actual:  good\n",
      "predicted:  good Data: (2, 0, 2, 0, 1, 2) actual:  good\n",
      "predicted:  good Data: (2, 2, 0, 2, 2, 1) actual:  good\n",
      "predicted:  good Data: (2, 2, 1, 0, 1, 1) actual:  good\n",
      "predicted:  good Data: (1, 2, 3, 0, 1, 2) actual:  good\n",
      "predicted:  good Data: (0, 2, 2, 1, 1, 2) actual:  unnac\n",
      "predicted:  good Data: (3, 3, 1, 0, 2, 1) actual:  good\n",
      "predicted:  good Data: (2, 1, 2, 1, 2, 1) actual:  good\n",
      "N:  (array([[1., 1., 1., 1., 1., 1., 1., 1., 1.]]), array([[1050, 1528, 1502,  945, 1367, 1390,  546,  942,    9]]))\n"
     ]
    }
   ],
   "source": [
    "# Predict the class labels for the test data using the trained model\n",
    "predicted = model.predict(x_test)\n",
    "\n",
    "# Define the class names for interpreting the predictions\n",
    "names = [\"unnac\", \"acc\", \"good\", \"vgood\"]\n",
    "\n",
    "# Iterate over the predictions and print the predicted class, the test data, and the actual class\n",
    "for x in range(len(predicted)):\n",
    "    print(\"predicted: \", names[predicted[x]], \"Data:\", x_test[x], \"actual: \", names[y_test[x]])\n",
    "    \n",
    "    # Find and print the 9 nearest neighbors for each test data point\n",
    "    n = model.kneighbors([x_test[x]], 9, True)\n",
    "\n",
    "# Print the neighbors information\n",
    "print(\"N: \", n)\n"
   ]
  },
  {
   "cell_type": "code",
   "execution_count": 99,
   "metadata": {},
   "outputs": [
    {
     "name": "stdout",
     "output_type": "stream",
     "text": [
      "[[ 35   0  12   0]\n",
      " [  3   3   0   0]\n",
      " [  1   0 117   0]\n",
      " [  0   0   0   2]]\n",
      "0.9075144508670521\n"
     ]
    }
   ],
   "source": [
    "# Compute the confusion matrix to evaluate the performance of the classification model\n",
    "cm = confusion_matrix(y_test, y_pred)\n",
    "\n",
    "# Print the confusion matrix\n",
    "print(cm)\n",
    "\n",
    "# Compute and print the accuracy score of the model based on the test data\n",
    "print(accuracy_score(y_test, y_pred))"
   ]
  },
  {
   "cell_type": "markdown",
   "metadata": {},
   "source": [
    "## Sources\n",
    "\n",
    "<https://bookdown.org/tpinto_home/Regression-and-Classification/k-nearest-neighbours-regression.html#:~:text=KNN%20regression%20is%20a%20non,observations%20in%20the%20same%20neighbourhood.>"
   ]
  }
 ],
 "metadata": {
  "kernelspec": {
   "display_name": "Python 3 (ipykernel)",
   "language": "python",
   "name": "python3"
  }
 },
 "nbformat": 4,
 "nbformat_minor": 2
}
